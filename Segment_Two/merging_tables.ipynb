{
 "nbformat": 4,
 "nbformat_minor": 2,
 "metadata": {
  "language_info": {
   "name": "python",
   "codemirror_mode": {
    "name": "ipython",
    "version": 3
   },
   "version": "3.7.6-final"
  },
  "orig_nbformat": 2,
  "file_extension": ".py",
  "mimetype": "text/x-python",
  "name": "python",
  "npconvert_exporter": "python",
  "pygments_lexer": "ipython3",
  "version": 3,
  "kernelspec": {
   "name": "mlenv",
   "display_name": "mlenv"
  }
 },
 "cells": [
  {
   "cell_type": "code",
   "execution_count": 3,
   "metadata": {},
   "outputs": [],
   "source": [
    "# Dependencies\n",
    "import sqlalchemy as db\n",
    "import pandas as pd\n",
    "from sqlalchemy import create_engine\n",
    "# Create the engine\n",
    "engine = create_engine(\"sqlite:///mental_health.db\", echo=False)\n",
    "connection = engine.connect()\n",
    "metadata = db.MetaData()\n",
    "# Create the tables\n",
    "questions = db.Table('pre_encoded_questions', metadata, autoload=True, autoload_with=engine)\n",
    "survey = db.Table('pre_encoded', metadata, autoload=True, autoload_with=engine)"
   ]
  },
  {
   "cell_type": "code",
   "execution_count": null,
   "metadata": {},
   "outputs": [],
   "source": []
  },
  {
   "cell_type": "code",
   "execution_count": 11,
   "metadata": {},
   "outputs": [],
   "source": [
    "# Attmept at Automatic Join Method\n",
    "# query = db.select([questions.columns.Questions, survey.columns.index])\n",
    "# results = connection.execute(query).fetchall()\n",
    "# df = pd.DataFrame(results)\n",
    "# df.columns = results[0].keys()\n",
    "# df.head(5)\n",
    "# # automatic join"
   ]
  },
  {
   "cell_type": "code",
   "execution_count": 25,
   "metadata": {},
   "outputs": [
    {
     "output_type": "execute_result",
     "data": {
      "text/plain": "   index                                           Question  index  \\\n0      0  Does your employer provide mental health benef...      0   \n1      1  Do you know the options for mental health care...      1   \n2      2  Does your employer offer resources to learn mo...      2   \n3      3  If a mental health issue prompted you to reque...      3   \n4      4  Do you think that discussing a mental health d...      4   \n\n              0              1    2                           3    4      5  \\\n0            No            Yes  Yes               Somewhat easy   No     No   \n1           Yes            Yes   No  Neither easy nor difficult  Yes  Maybe   \n2           Yes  I am not sure  Yes               Somewhat easy  Yes    Yes   \n3  I don't know             No   No               Somewhat easy   No     No   \n4           Yes            Yes  Yes                   Very easy   No     No   \n\n              6  ...   22   23   24   25 26                    27  \\\n0           Yes  ...  Yes  Yes  Yes  Yes  1                Rarely   \n1            No  ...  Yes  Yes  Yes  Yes  1             Sometimes   \n2            No  ...   No   No  Yes   No  1  Not applicable to me   \n3           Yes  ...   No   No   No   No  0  Not applicable to me   \n4  I don't know  ...  Yes  Yes  Yes  Yes  1             Sometimes   \n\n                     28      29                        30  \\\n0             Sometimes    Male  United States of America   \n1             Sometimes  Female  United States of America   \n2                 Often    Male            United Kingdom   \n3  Not applicable to me    Male  United States of America   \n4                 Often  Female  United States of America   \n\n                         31  \n0  United States of America  \n1  United States of America  \n2            United Kingdom  \n3  United States of America  \n4  United States of America  \n\n[5 rows x 35 columns]",
      "text/html": "<div>\n<style scoped>\n    .dataframe tbody tr th:only-of-type {\n        vertical-align: middle;\n    }\n\n    .dataframe tbody tr th {\n        vertical-align: top;\n    }\n\n    .dataframe thead th {\n        text-align: right;\n    }\n</style>\n<table border=\"1\" class=\"dataframe\">\n  <thead>\n    <tr style=\"text-align: right;\">\n      <th></th>\n      <th>index</th>\n      <th>Question</th>\n      <th>index</th>\n      <th>0</th>\n      <th>1</th>\n      <th>2</th>\n      <th>3</th>\n      <th>4</th>\n      <th>5</th>\n      <th>6</th>\n      <th>...</th>\n      <th>22</th>\n      <th>23</th>\n      <th>24</th>\n      <th>25</th>\n      <th>26</th>\n      <th>27</th>\n      <th>28</th>\n      <th>29</th>\n      <th>30</th>\n      <th>31</th>\n    </tr>\n  </thead>\n  <tbody>\n    <tr>\n      <th>0</th>\n      <td>0</td>\n      <td>Does your employer provide mental health benef...</td>\n      <td>0</td>\n      <td>No</td>\n      <td>Yes</td>\n      <td>Yes</td>\n      <td>Somewhat easy</td>\n      <td>No</td>\n      <td>No</td>\n      <td>Yes</td>\n      <td>...</td>\n      <td>Yes</td>\n      <td>Yes</td>\n      <td>Yes</td>\n      <td>Yes</td>\n      <td>1</td>\n      <td>Rarely</td>\n      <td>Sometimes</td>\n      <td>Male</td>\n      <td>United States of America</td>\n      <td>United States of America</td>\n    </tr>\n    <tr>\n      <th>1</th>\n      <td>1</td>\n      <td>Do you know the options for mental health care...</td>\n      <td>1</td>\n      <td>Yes</td>\n      <td>Yes</td>\n      <td>No</td>\n      <td>Neither easy nor difficult</td>\n      <td>Yes</td>\n      <td>Maybe</td>\n      <td>No</td>\n      <td>...</td>\n      <td>Yes</td>\n      <td>Yes</td>\n      <td>Yes</td>\n      <td>Yes</td>\n      <td>1</td>\n      <td>Sometimes</td>\n      <td>Sometimes</td>\n      <td>Female</td>\n      <td>United States of America</td>\n      <td>United States of America</td>\n    </tr>\n    <tr>\n      <th>2</th>\n      <td>2</td>\n      <td>Does your employer offer resources to learn mo...</td>\n      <td>2</td>\n      <td>Yes</td>\n      <td>I am not sure</td>\n      <td>Yes</td>\n      <td>Somewhat easy</td>\n      <td>Yes</td>\n      <td>Yes</td>\n      <td>No</td>\n      <td>...</td>\n      <td>No</td>\n      <td>No</td>\n      <td>Yes</td>\n      <td>No</td>\n      <td>1</td>\n      <td>Not applicable to me</td>\n      <td>Often</td>\n      <td>Male</td>\n      <td>United Kingdom</td>\n      <td>United Kingdom</td>\n    </tr>\n    <tr>\n      <th>3</th>\n      <td>3</td>\n      <td>If a mental health issue prompted you to reque...</td>\n      <td>3</td>\n      <td>I don't know</td>\n      <td>No</td>\n      <td>No</td>\n      <td>Somewhat easy</td>\n      <td>No</td>\n      <td>No</td>\n      <td>Yes</td>\n      <td>...</td>\n      <td>No</td>\n      <td>No</td>\n      <td>No</td>\n      <td>No</td>\n      <td>0</td>\n      <td>Not applicable to me</td>\n      <td>Not applicable to me</td>\n      <td>Male</td>\n      <td>United States of America</td>\n      <td>United States of America</td>\n    </tr>\n    <tr>\n      <th>4</th>\n      <td>4</td>\n      <td>Do you think that discussing a mental health d...</td>\n      <td>4</td>\n      <td>Yes</td>\n      <td>Yes</td>\n      <td>Yes</td>\n      <td>Very easy</td>\n      <td>No</td>\n      <td>No</td>\n      <td>I don't know</td>\n      <td>...</td>\n      <td>Yes</td>\n      <td>Yes</td>\n      <td>Yes</td>\n      <td>Yes</td>\n      <td>1</td>\n      <td>Sometimes</td>\n      <td>Often</td>\n      <td>Female</td>\n      <td>United States of America</td>\n      <td>United States of America</td>\n    </tr>\n  </tbody>\n</table>\n<p>5 rows × 35 columns</p>\n</div>"
     },
     "metadata": {},
     "execution_count": 25
    }
   ],
   "source": [
    "# Join 'pre_encoded_survey' and 'pre_encoded_questions' on index using the manual method\n",
    "query = db.select([questions, survey])\n",
    "query = query.select_from(questions.join(survey, questions.columns.index == survey.columns.index))\n",
    "\n",
    "# Display the results\n",
    "results = connection.execute(query).fetchall()\n",
    "joined_df = pd.DataFrame(results)\n",
    "joined_df.columns = results[0].keys()\n",
    "joined_df.head(5)"
   ]
  },
  {
   "cell_type": "code",
   "execution_count": 24,
   "metadata": {},
   "outputs": [
    {
     "output_type": "execute_result",
     "data": {
      "text/plain": "   index  index             0              1    2                           3  \\\n0      0      0            No            Yes  Yes               Somewhat easy   \n1      1      1           Yes            Yes   No  Neither easy nor difficult   \n2      2      2           Yes  I am not sure  Yes               Somewhat easy   \n3      3      3  I don't know             No   No               Somewhat easy   \n4      4      4           Yes            Yes  Yes                   Very easy   \n\n     4      5             6    7  ...   22   23   24   25 26  \\\n0   No     No           Yes   No  ...  Yes  Yes  Yes  Yes  1   \n1  Yes  Maybe            No   No  ...  Yes  Yes  Yes  Yes  1   \n2  Yes    Yes            No  Yes  ...   No   No  Yes   No  1   \n3   No     No           Yes   No  ...   No   No   No   No  0   \n4   No     No  I don't know   No  ...  Yes  Yes  Yes  Yes  1   \n\n                     27                    28      29  \\\n0                Rarely             Sometimes    Male   \n1             Sometimes             Sometimes  Female   \n2  Not applicable to me                 Often    Male   \n3  Not applicable to me  Not applicable to me    Male   \n4             Sometimes                 Often  Female   \n\n                         30                        31  \n0  United States of America  United States of America  \n1  United States of America  United States of America  \n2            United Kingdom            United Kingdom  \n3  United States of America  United States of America  \n4  United States of America  United States of America  \n\n[5 rows x 34 columns]",
      "text/html": "<div>\n<style scoped>\n    .dataframe tbody tr th:only-of-type {\n        vertical-align: middle;\n    }\n\n    .dataframe tbody tr th {\n        vertical-align: top;\n    }\n\n    .dataframe thead th {\n        text-align: right;\n    }\n</style>\n<table border=\"1\" class=\"dataframe\">\n  <thead>\n    <tr style=\"text-align: right;\">\n      <th></th>\n      <th>index</th>\n      <th>index</th>\n      <th>0</th>\n      <th>1</th>\n      <th>2</th>\n      <th>3</th>\n      <th>4</th>\n      <th>5</th>\n      <th>6</th>\n      <th>7</th>\n      <th>...</th>\n      <th>22</th>\n      <th>23</th>\n      <th>24</th>\n      <th>25</th>\n      <th>26</th>\n      <th>27</th>\n      <th>28</th>\n      <th>29</th>\n      <th>30</th>\n      <th>31</th>\n    </tr>\n  </thead>\n  <tbody>\n    <tr>\n      <th>0</th>\n      <td>0</td>\n      <td>0</td>\n      <td>No</td>\n      <td>Yes</td>\n      <td>Yes</td>\n      <td>Somewhat easy</td>\n      <td>No</td>\n      <td>No</td>\n      <td>Yes</td>\n      <td>No</td>\n      <td>...</td>\n      <td>Yes</td>\n      <td>Yes</td>\n      <td>Yes</td>\n      <td>Yes</td>\n      <td>1</td>\n      <td>Rarely</td>\n      <td>Sometimes</td>\n      <td>Male</td>\n      <td>United States of America</td>\n      <td>United States of America</td>\n    </tr>\n    <tr>\n      <th>1</th>\n      <td>1</td>\n      <td>1</td>\n      <td>Yes</td>\n      <td>Yes</td>\n      <td>No</td>\n      <td>Neither easy nor difficult</td>\n      <td>Yes</td>\n      <td>Maybe</td>\n      <td>No</td>\n      <td>No</td>\n      <td>...</td>\n      <td>Yes</td>\n      <td>Yes</td>\n      <td>Yes</td>\n      <td>Yes</td>\n      <td>1</td>\n      <td>Sometimes</td>\n      <td>Sometimes</td>\n      <td>Female</td>\n      <td>United States of America</td>\n      <td>United States of America</td>\n    </tr>\n    <tr>\n      <th>2</th>\n      <td>2</td>\n      <td>2</td>\n      <td>Yes</td>\n      <td>I am not sure</td>\n      <td>Yes</td>\n      <td>Somewhat easy</td>\n      <td>Yes</td>\n      <td>Yes</td>\n      <td>No</td>\n      <td>Yes</td>\n      <td>...</td>\n      <td>No</td>\n      <td>No</td>\n      <td>Yes</td>\n      <td>No</td>\n      <td>1</td>\n      <td>Not applicable to me</td>\n      <td>Often</td>\n      <td>Male</td>\n      <td>United Kingdom</td>\n      <td>United Kingdom</td>\n    </tr>\n    <tr>\n      <th>3</th>\n      <td>3</td>\n      <td>3</td>\n      <td>I don't know</td>\n      <td>No</td>\n      <td>No</td>\n      <td>Somewhat easy</td>\n      <td>No</td>\n      <td>No</td>\n      <td>Yes</td>\n      <td>No</td>\n      <td>...</td>\n      <td>No</td>\n      <td>No</td>\n      <td>No</td>\n      <td>No</td>\n      <td>0</td>\n      <td>Not applicable to me</td>\n      <td>Not applicable to me</td>\n      <td>Male</td>\n      <td>United States of America</td>\n      <td>United States of America</td>\n    </tr>\n    <tr>\n      <th>4</th>\n      <td>4</td>\n      <td>4</td>\n      <td>Yes</td>\n      <td>Yes</td>\n      <td>Yes</td>\n      <td>Very easy</td>\n      <td>No</td>\n      <td>No</td>\n      <td>I don't know</td>\n      <td>No</td>\n      <td>...</td>\n      <td>Yes</td>\n      <td>Yes</td>\n      <td>Yes</td>\n      <td>Yes</td>\n      <td>1</td>\n      <td>Sometimes</td>\n      <td>Often</td>\n      <td>Female</td>\n      <td>United States of America</td>\n      <td>United States of America</td>\n    </tr>\n  </tbody>\n</table>\n<p>5 rows × 34 columns</p>\n</div>"
     },
     "metadata": {},
     "execution_count": 24
    }
   ],
   "source": []
  },
  {
   "cell_type": "code",
   "execution_count": null,
   "metadata": {},
   "outputs": [],
   "source": []
  }
 ]
}